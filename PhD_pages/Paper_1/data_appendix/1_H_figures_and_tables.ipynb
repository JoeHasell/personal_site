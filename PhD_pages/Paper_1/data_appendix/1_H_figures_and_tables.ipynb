{
  "cells": [
    {
      "cell_type": "raw",
      "metadata": {},
      "source": [
        "---\n",
        "title: \"Appendix 1.H: Preparing figures and tables used in the paper\"\n",
        "format: html\n",
        "execute:\n",
        "  echo: false\n",
        "  warning: false\n",
        "---"
      ],
      "id": "8b71ad31"
    },
    {
      "cell_type": "markdown",
      "metadata": {},
      "source": [
        "## Set-up\n",
        "\n",
        "Load packages and functions."
      ],
      "id": "2f025174"
    },
    {
      "cell_type": "code",
      "metadata": {},
      "source": [
        "from plotnine import *\n",
        "import plotly.express as px\n",
        "import pandas as pd\n",
        "import numpy as np\n",
        "\n",
        "import dataframe_image as dfi\n",
        "\n",
        "from G_functions_for_figures_and_tables import * \n",
        "\n",
        "pd.set_option('display.max_rows', None)"
      ],
      "id": "f6f3cf69",
      "execution_count": null,
      "outputs": []
    },
    {
      "cell_type": "markdown",
      "metadata": {},
      "source": [
        "Read in data."
      ],
      "id": "fa14e011"
    },
    {
      "cell_type": "code",
      "metadata": {},
      "source": [
        "fp = 'data/clean/pip.csv'\n",
        "        \n",
        "df_pip = pd.read_csv(fp)\n",
        "\n",
        "\n",
        "fp = 'data/clean/wid.csv'\n",
        "\n",
        "df_wid = pd.read_csv(fp)\n",
        "\n",
        "fp = 'data/clean/lis.csv'\n",
        "\n",
        "df_lis = pd.read_csv(fp)\n",
        "\n",
        "\n",
        "fp = 'data/clean/region_mapping.csv'\n",
        "\n",
        "df_regions = pd.read_csv(fp)\n",
        "\n",
        "\n",
        "fp = 'data/clean/population.csv'\n",
        "\n",
        "df_pop = pd.read_csv(fp)\n",
        "\n",
        "fp = 'data/clean/region_population.csv'\n",
        "\n",
        "df_pop_regions = pd.read_csv(fp)\n"
      ],
      "id": "18db8c93",
      "execution_count": null,
      "outputs": []
    },
    {
      "cell_type": "markdown",
      "metadata": {},
      "source": [
        "Gather the inequality data into a dictionary – this is the format assumed by the functions that will later be applied."
      ],
      "id": "3eb62138"
    },
    {
      "cell_type": "code",
      "metadata": {},
      "source": [
        "# Gather data into dictionary\n",
        "source_dfs = {\n",
        "    \"PIP\": df_pip,\n",
        "    \"WID\": df_wid,\n",
        "    \"LIS\": df_lis\n",
        "    }"
      ],
      "id": "15df38b2",
      "execution_count": null,
      "outputs": []
    },
    {
      "cell_type": "markdown",
      "metadata": {},
      "source": [
        "Specify a mapping between inequality variables and the 'tolerance' that will be used to catagorise whether the metric has risen or fallen substantially (e.g. +/- 1point change). The mapping is achieved by a string match - i.e. 'Gini' within 'var_search_term' will map the correspondending tolerance to all columns whose name includes the string 'Gini'.\n"
      ],
      "id": "c7b9661f"
    },
    {
      "cell_type": "code",
      "metadata": {},
      "source": [
        "tolerance_lookup =  {\n",
        "                'var_search_term': [\n",
        "                    'Gini',\n",
        "                    'Top 1pc share', \n",
        "                    'Top 10pc share',\n",
        "                    'Bottom 50pc share'],\n",
        "                'var_tolerance': [\n",
        "                    1,\n",
        "                    1,\n",
        "                    1,\n",
        "                    1\n",
        "                ]\n",
        "            }"
      ],
      "id": "9c7ecbfa",
      "execution_count": null,
      "outputs": []
    },
    {
      "cell_type": "markdown",
      "metadata": {},
      "source": [
        "This builds astring that gets added to the tables identifying what paremeters were set when the table was built."
      ],
      "id": "310919bb"
    },
    {
      "cell_type": "code",
      "metadata": {},
      "source": [
        "def make_selection_msg(reference_vals,max_dist_from_refs,all_metrics_requirement,selected_vars):\n",
        "    msg = f'{reference_vals[0]} vs {reference_vals[1]} (+/- {max_dist_from_refs} years)'\n",
        "\n",
        "    if len(selected_vars)>1:\n",
        "        if all_metrics_requirement:\n",
        "            msg = f'{msg} – Matched countries only'\n",
        "        else:\n",
        "            msg = f'{msg} – All available countries' \n",
        "\n",
        "    return(msg)"
      ],
      "id": "a65c93f6",
      "execution_count": null,
      "outputs": []
    },
    {
      "cell_type": "markdown",
      "metadata": {},
      "source": [
        "## Tables\n",
        "\n",
        "#### Table 1\n",
        "\n",
        "\n",
        "This figure compares relative change in the 'typical' metrics for WID and PIP: Top 1% share (pretax) and Gini"
      ],
      "id": "5c6f7cd5"
    },
    {
      "cell_type": "code",
      "metadata": {},
      "source": [
        "# Set-up to compare WID and PIP top 10% share, all countries\n",
        "reference_vals = [1995, 2015]\n",
        "max_dist_from_refs = 3\n",
        "all_metrics_requirement = False\n",
        "selected_vars = [\n",
        "        'WID: Top 1pc share – pretax',\n",
        "        'PIP: Gini'\n",
        "        ]\n",
        "\n",
        "all_metrics_requirement = True\n"
      ],
      "id": "190192c5",
      "execution_count": null,
      "outputs": []
    },
    {
      "cell_type": "code",
      "metadata": {},
      "source": [
        "df_summary = change_summary_table(\n",
        "      source_dfs = source_dfs,\n",
        "      df_pop = df_pop,\n",
        "      df_pop_regions = df_pop_regions,\n",
        "      df_regions = df_regions,\n",
        "      selected_vars = selected_vars,\n",
        "      reference_vals = reference_vals,\n",
        "      max_dist_from_refs = max_dist_from_refs,\n",
        "      min_dist_between = 1,\n",
        "      all_metrics_requirement = all_metrics_requirement,\n",
        "      reference_col = \"Year\",\n",
        "      group_by_col = \"Entity\",\n",
        "      outlier_cut_off_upper = None,\n",
        "      tolerance_lookup =  tolerance_lookup,\n",
        "      region_col = 'region'\n",
        "      )\n",
        "\n",
        "df_summary['PIP: Gini']\n",
        "\n",
        "dfi.export(df_summary,\"table_test.png\")"
      ],
      "id": "9bba8ee9",
      "execution_count": null,
      "outputs": []
    },
    {
      "cell_type": "markdown",
      "metadata": {},
      "source": [
        "![](table_test.png)\n",
        "\n",
        "\n",
        "\n",
        "#### Table 2\n",
        "\n",
        "\n",
        "#### Table 3\n",
        "\n",
        "\n",
        "\n",
        "## Figures\n",
        "\n",
        "#### Figure 1\n",
        "\n",
        "This figure compares relative change in the 'typical' metrics for WID and PIP: Top 1% share (pretax) and Gini"
      ],
      "id": "29b63f0c"
    },
    {
      "cell_type": "code",
      "metadata": {},
      "source": [
        "# Set-up to compare WID and PIP top 10% share, all countries\n",
        "reference_vals = [1995, 2015]\n",
        "max_dist_from_refs = 3\n",
        "all_metrics_requirement = False\n",
        "selected_vars = [\n",
        "        'WID: Top 1pc share – pretax',\n",
        "        'PIP: Gini'\n",
        "        ]\n",
        "\n",
        "all_metrics_requirement = True\n"
      ],
      "id": "e1c648ea",
      "execution_count": null,
      "outputs": []
    },
    {
      "cell_type": "code",
      "metadata": {},
      "source": [
        "# Scatter WID (WID vs PIP top 10% share, only matched countries)\n",
        "\n",
        "plot_change_scatter(\n",
        "      plot_var = 'relative_diff',\n",
        "      source_dfs = source_dfs,\n",
        "      df_pop = df_pop,\n",
        "      df_regions = df_regions,\n",
        "      selected_vars = selected_vars,\n",
        "      reference_vals = reference_vals,\n",
        "      max_dist_from_refs = max_dist_from_refs,\n",
        "      min_dist_between = 1,\n",
        "      all_metrics_requirement = all_metrics_requirement,\n",
        "      reference_col = \"Year\",\n",
        "      group_by_col = \"Entity\",\n",
        "      outlier_cut_off_upper = None,\n",
        "      tolerance_lookup =  tolerance_lookup,\n",
        "      region_col = 'region'\n",
        "      )[0]"
      ],
      "id": "dfdb195c",
      "execution_count": null,
      "outputs": []
    },
    {
      "cell_type": "markdown",
      "metadata": {},
      "source": [
        "#### Figure 2\n",
        "\n",
        "\n",
        "#### Figure 3"
      ],
      "id": "8db3f80c"
    }
  ],
  "metadata": {
    "kernelspec": {
      "name": "python3",
      "language": "python",
      "display_name": "Python 3 (ipykernel)"
    }
  },
  "nbformat": 4,
  "nbformat_minor": 5
}